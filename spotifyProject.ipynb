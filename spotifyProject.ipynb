{
 "cells": [
  {
   "cell_type": "markdown",
   "id": "4a46e0fe-1174-498b-9fbf-08e7edec8490",
   "metadata": {},
   "source": []
  },
  {
   "cell_type": "code",
   "execution_count": 50,
   "id": "a3e31b42-5810-4969-91bc-95a7592995ff",
   "metadata": {},
   "outputs": [],
   "source": [
    "import pandas as pd"
   ]
  },
  {
   "cell_type": "code",
   "execution_count": 51,
   "id": "d45e7f04-e48b-4bdf-8294-c511f70188cd",
   "metadata": {},
   "outputs": [],
   "source": [
    "url = \"https://raw.githubusercontent.com/natihuri1/spotifyProject/main/spotifyProject.csv\"\n",
    "spotify_df = pd.read_csv(url)\n"
   ]
  },
  {
   "cell_type": "code",
   "execution_count": 52,
   "id": "900113cd-d522-4a55-a64f-573194f0a4c1",
   "metadata": {},
   "outputs": [
    {
     "data": {
      "text/html": [
       "<div>\n",
       "<style scoped>\n",
       "    .dataframe tbody tr th:only-of-type {\n",
       "        vertical-align: middle;\n",
       "    }\n",
       "\n",
       "    .dataframe tbody tr th {\n",
       "        vertical-align: top;\n",
       "    }\n",
       "\n",
       "    .dataframe thead th {\n",
       "        text-align: right;\n",
       "    }\n",
       "</style>\n",
       "<table border=\"1\" class=\"dataframe\">\n",
       "  <thead>\n",
       "    <tr style=\"text-align: right;\">\n",
       "      <th></th>\n",
       "      <th>Unnamed: 0</th>\n",
       "      <th>genre</th>\n",
       "      <th>artist_name</th>\n",
       "      <th>track_name</th>\n",
       "      <th>track_id</th>\n",
       "      <th>popularity</th>\n",
       "      <th>acousticness</th>\n",
       "      <th>danceability</th>\n",
       "      <th>duration_ms</th>\n",
       "      <th>energy</th>\n",
       "      <th>instrumentalness</th>\n",
       "      <th>key</th>\n",
       "      <th>liveness</th>\n",
       "      <th>loudness</th>\n",
       "      <th>mode</th>\n",
       "      <th>speechiness</th>\n",
       "      <th>tempo</th>\n",
       "      <th>time_signature</th>\n",
       "      <th>valence</th>\n",
       "    </tr>\n",
       "  </thead>\n",
       "  <tbody>\n",
       "    <tr>\n",
       "      <th>0</th>\n",
       "      <td>0</td>\n",
       "      <td>Movie</td>\n",
       "      <td>Henri Salvador</td>\n",
       "      <td>C'est beau de faire un Show</td>\n",
       "      <td>0BRjO6ga9RKCKjfDqeFgWV</td>\n",
       "      <td>0</td>\n",
       "      <td>0.61100</td>\n",
       "      <td>0.389</td>\n",
       "      <td>99373</td>\n",
       "      <td>0.910</td>\n",
       "      <td>0.000000</td>\n",
       "      <td>C#</td>\n",
       "      <td>0.3460</td>\n",
       "      <td>-1.828</td>\n",
       "      <td>Major</td>\n",
       "      <td>0.0525</td>\n",
       "      <td>166.969</td>\n",
       "      <td>4/4</td>\n",
       "      <td>0.814</td>\n",
       "    </tr>\n",
       "    <tr>\n",
       "      <th>1</th>\n",
       "      <td>1</td>\n",
       "      <td>Movie</td>\n",
       "      <td>Martin &amp; les fées</td>\n",
       "      <td>Perdu d'avance (par Gad Elmaleh)</td>\n",
       "      <td>0BjC1NfoEOOusryehmNudP</td>\n",
       "      <td>1</td>\n",
       "      <td>0.24600</td>\n",
       "      <td>0.590</td>\n",
       "      <td>137373</td>\n",
       "      <td>0.737</td>\n",
       "      <td>0.000000</td>\n",
       "      <td>F#</td>\n",
       "      <td>0.1510</td>\n",
       "      <td>-5.559</td>\n",
       "      <td>Minor</td>\n",
       "      <td>0.0868</td>\n",
       "      <td>174.003</td>\n",
       "      <td>4/4</td>\n",
       "      <td>0.816</td>\n",
       "    </tr>\n",
       "    <tr>\n",
       "      <th>2</th>\n",
       "      <td>2</td>\n",
       "      <td>Movie</td>\n",
       "      <td>Joseph Williams</td>\n",
       "      <td>Don't Let Me Be Lonely Tonight</td>\n",
       "      <td>0CoSDzoNIKCRs124s9uTVy</td>\n",
       "      <td>3</td>\n",
       "      <td>0.95200</td>\n",
       "      <td>0.663</td>\n",
       "      <td>170267</td>\n",
       "      <td>0.131</td>\n",
       "      <td>0.000000</td>\n",
       "      <td>C</td>\n",
       "      <td>0.1030</td>\n",
       "      <td>-13.879</td>\n",
       "      <td>Minor</td>\n",
       "      <td>0.0362</td>\n",
       "      <td>99.488</td>\n",
       "      <td>5/4</td>\n",
       "      <td>0.368</td>\n",
       "    </tr>\n",
       "    <tr>\n",
       "      <th>3</th>\n",
       "      <td>3</td>\n",
       "      <td>Movie</td>\n",
       "      <td>Henri Salvador</td>\n",
       "      <td>Dis-moi Monsieur Gordon Cooper</td>\n",
       "      <td>0Gc6TVm52BwZD07Ki6tIvf</td>\n",
       "      <td>0</td>\n",
       "      <td>0.70300</td>\n",
       "      <td>0.240</td>\n",
       "      <td>152427</td>\n",
       "      <td>0.326</td>\n",
       "      <td>0.000000</td>\n",
       "      <td>C#</td>\n",
       "      <td>0.0985</td>\n",
       "      <td>-12.178</td>\n",
       "      <td>Major</td>\n",
       "      <td>0.0395</td>\n",
       "      <td>171.758</td>\n",
       "      <td>4/4</td>\n",
       "      <td>0.227</td>\n",
       "    </tr>\n",
       "    <tr>\n",
       "      <th>4</th>\n",
       "      <td>4</td>\n",
       "      <td>Movie</td>\n",
       "      <td>Fabien Nataf</td>\n",
       "      <td>Ouverture</td>\n",
       "      <td>0IuslXpMROHdEPvSl1fTQK</td>\n",
       "      <td>4</td>\n",
       "      <td>0.95000</td>\n",
       "      <td>0.331</td>\n",
       "      <td>82625</td>\n",
       "      <td>0.225</td>\n",
       "      <td>0.123000</td>\n",
       "      <td>F</td>\n",
       "      <td>0.2020</td>\n",
       "      <td>-21.150</td>\n",
       "      <td>Major</td>\n",
       "      <td>0.0456</td>\n",
       "      <td>140.576</td>\n",
       "      <td>4/4</td>\n",
       "      <td>0.390</td>\n",
       "    </tr>\n",
       "    <tr>\n",
       "      <th>...</th>\n",
       "      <td>...</td>\n",
       "      <td>...</td>\n",
       "      <td>...</td>\n",
       "      <td>...</td>\n",
       "      <td>...</td>\n",
       "      <td>...</td>\n",
       "      <td>...</td>\n",
       "      <td>...</td>\n",
       "      <td>...</td>\n",
       "      <td>...</td>\n",
       "      <td>...</td>\n",
       "      <td>...</td>\n",
       "      <td>...</td>\n",
       "      <td>...</td>\n",
       "      <td>...</td>\n",
       "      <td>...</td>\n",
       "      <td>...</td>\n",
       "      <td>...</td>\n",
       "      <td>...</td>\n",
       "    </tr>\n",
       "    <tr>\n",
       "      <th>39995</th>\n",
       "      <td>39995</td>\n",
       "      <td>Electronic</td>\n",
       "      <td>Zomboy</td>\n",
       "      <td>Young &amp; Dangerous - Gentlemens Club Remix</td>\n",
       "      <td>4iL7kCCiy2FjGFqxUGmA2K</td>\n",
       "      <td>29</td>\n",
       "      <td>0.00661</td>\n",
       "      <td>0.573</td>\n",
       "      <td>240000</td>\n",
       "      <td>0.784</td>\n",
       "      <td>0.130000</td>\n",
       "      <td>F</td>\n",
       "      <td>0.2640</td>\n",
       "      <td>-4.047</td>\n",
       "      <td>Minor</td>\n",
       "      <td>0.0421</td>\n",
       "      <td>145.042</td>\n",
       "      <td>4/4</td>\n",
       "      <td>0.163</td>\n",
       "    </tr>\n",
       "    <tr>\n",
       "      <th>39996</th>\n",
       "      <td>39996</td>\n",
       "      <td>Electronic</td>\n",
       "      <td>MC Hammer</td>\n",
       "      <td>Intro: Turn This Mutha Out</td>\n",
       "      <td>4X8EsIbtmKCyBaxhm21EHh</td>\n",
       "      <td>24</td>\n",
       "      <td>0.01010</td>\n",
       "      <td>0.864</td>\n",
       "      <td>140434</td>\n",
       "      <td>0.916</td>\n",
       "      <td>0.050600</td>\n",
       "      <td>C#</td>\n",
       "      <td>0.3500</td>\n",
       "      <td>-11.031</td>\n",
       "      <td>Major</td>\n",
       "      <td>0.0483</td>\n",
       "      <td>111.141</td>\n",
       "      <td>4/4</td>\n",
       "      <td>0.919</td>\n",
       "    </tr>\n",
       "    <tr>\n",
       "      <th>39997</th>\n",
       "      <td>39997</td>\n",
       "      <td>Electronic</td>\n",
       "      <td>Air</td>\n",
       "      <td>Au fond du rêve doré</td>\n",
       "      <td>6dacsOp1V5oI22BQ2wZxfq</td>\n",
       "      <td>35</td>\n",
       "      <td>0.71500</td>\n",
       "      <td>0.451</td>\n",
       "      <td>121880</td>\n",
       "      <td>0.541</td>\n",
       "      <td>0.764000</td>\n",
       "      <td>G</td>\n",
       "      <td>0.1720</td>\n",
       "      <td>-8.018</td>\n",
       "      <td>Major</td>\n",
       "      <td>0.0271</td>\n",
       "      <td>103.123</td>\n",
       "      <td>3/4</td>\n",
       "      <td>0.234</td>\n",
       "    </tr>\n",
       "    <tr>\n",
       "      <th>39998</th>\n",
       "      <td>39998</td>\n",
       "      <td>Electronic</td>\n",
       "      <td>Bent</td>\n",
       "      <td>Strictly Bongo</td>\n",
       "      <td>5fGuXPBg1hwskIq6B7aRye</td>\n",
       "      <td>30</td>\n",
       "      <td>0.04340</td>\n",
       "      <td>0.597</td>\n",
       "      <td>322173</td>\n",
       "      <td>0.556</td>\n",
       "      <td>0.008730</td>\n",
       "      <td>G</td>\n",
       "      <td>0.1810</td>\n",
       "      <td>-10.872</td>\n",
       "      <td>Major</td>\n",
       "      <td>0.0477</td>\n",
       "      <td>80.004</td>\n",
       "      <td>4/4</td>\n",
       "      <td>0.552</td>\n",
       "    </tr>\n",
       "    <tr>\n",
       "      <th>39999</th>\n",
       "      <td>39999</td>\n",
       "      <td>Electronic</td>\n",
       "      <td>Rusko</td>\n",
       "      <td>Pressure</td>\n",
       "      <td>6Vcs1LosQfOosZ5nHPfQIQ</td>\n",
       "      <td>23</td>\n",
       "      <td>0.00147</td>\n",
       "      <td>0.446</td>\n",
       "      <td>243997</td>\n",
       "      <td>0.782</td>\n",
       "      <td>0.000008</td>\n",
       "      <td>B</td>\n",
       "      <td>0.2370</td>\n",
       "      <td>-4.455</td>\n",
       "      <td>Minor</td>\n",
       "      <td>0.0493</td>\n",
       "      <td>137.009</td>\n",
       "      <td>4/4</td>\n",
       "      <td>0.650</td>\n",
       "    </tr>\n",
       "  </tbody>\n",
       "</table>\n",
       "<p>40000 rows × 19 columns</p>\n",
       "</div>"
      ],
      "text/plain": [
       "       Unnamed: 0       genre        artist_name  \\\n",
       "0               0       Movie     Henri Salvador   \n",
       "1               1       Movie  Martin & les fées   \n",
       "2               2       Movie    Joseph Williams   \n",
       "3               3       Movie     Henri Salvador   \n",
       "4               4       Movie       Fabien Nataf   \n",
       "...           ...         ...                ...   \n",
       "39995       39995  Electronic             Zomboy   \n",
       "39996       39996  Electronic          MC Hammer   \n",
       "39997       39997  Electronic                Air   \n",
       "39998       39998  Electronic               Bent   \n",
       "39999       39999  Electronic              Rusko   \n",
       "\n",
       "                                      track_name                track_id  \\\n",
       "0                    C'est beau de faire un Show  0BRjO6ga9RKCKjfDqeFgWV   \n",
       "1               Perdu d'avance (par Gad Elmaleh)  0BjC1NfoEOOusryehmNudP   \n",
       "2                 Don't Let Me Be Lonely Tonight  0CoSDzoNIKCRs124s9uTVy   \n",
       "3                 Dis-moi Monsieur Gordon Cooper  0Gc6TVm52BwZD07Ki6tIvf   \n",
       "4                                      Ouverture  0IuslXpMROHdEPvSl1fTQK   \n",
       "...                                          ...                     ...   \n",
       "39995  Young & Dangerous - Gentlemens Club Remix  4iL7kCCiy2FjGFqxUGmA2K   \n",
       "39996                 Intro: Turn This Mutha Out  4X8EsIbtmKCyBaxhm21EHh   \n",
       "39997                       Au fond du rêve doré  6dacsOp1V5oI22BQ2wZxfq   \n",
       "39998                             Strictly Bongo  5fGuXPBg1hwskIq6B7aRye   \n",
       "39999                                   Pressure  6Vcs1LosQfOosZ5nHPfQIQ   \n",
       "\n",
       "       popularity  acousticness  danceability  duration_ms  energy  \\\n",
       "0               0       0.61100         0.389        99373   0.910   \n",
       "1               1       0.24600         0.590       137373   0.737   \n",
       "2               3       0.95200         0.663       170267   0.131   \n",
       "3               0       0.70300         0.240       152427   0.326   \n",
       "4               4       0.95000         0.331        82625   0.225   \n",
       "...           ...           ...           ...          ...     ...   \n",
       "39995          29       0.00661         0.573       240000   0.784   \n",
       "39996          24       0.01010         0.864       140434   0.916   \n",
       "39997          35       0.71500         0.451       121880   0.541   \n",
       "39998          30       0.04340         0.597       322173   0.556   \n",
       "39999          23       0.00147         0.446       243997   0.782   \n",
       "\n",
       "       instrumentalness key  liveness  loudness   mode  speechiness    tempo  \\\n",
       "0              0.000000  C#    0.3460    -1.828  Major       0.0525  166.969   \n",
       "1              0.000000  F#    0.1510    -5.559  Minor       0.0868  174.003   \n",
       "2              0.000000   C    0.1030   -13.879  Minor       0.0362   99.488   \n",
       "3              0.000000  C#    0.0985   -12.178  Major       0.0395  171.758   \n",
       "4              0.123000   F    0.2020   -21.150  Major       0.0456  140.576   \n",
       "...                 ...  ..       ...       ...    ...          ...      ...   \n",
       "39995          0.130000   F    0.2640    -4.047  Minor       0.0421  145.042   \n",
       "39996          0.050600  C#    0.3500   -11.031  Major       0.0483  111.141   \n",
       "39997          0.764000   G    0.1720    -8.018  Major       0.0271  103.123   \n",
       "39998          0.008730   G    0.1810   -10.872  Major       0.0477   80.004   \n",
       "39999          0.000008   B    0.2370    -4.455  Minor       0.0493  137.009   \n",
       "\n",
       "      time_signature  valence  \n",
       "0                4/4    0.814  \n",
       "1                4/4    0.816  \n",
       "2                5/4    0.368  \n",
       "3                4/4    0.227  \n",
       "4                4/4    0.390  \n",
       "...              ...      ...  \n",
       "39995            4/4    0.163  \n",
       "39996            4/4    0.919  \n",
       "39997            3/4    0.234  \n",
       "39998            4/4    0.552  \n",
       "39999            4/4    0.650  \n",
       "\n",
       "[40000 rows x 19 columns]"
      ]
     },
     "execution_count": 52,
     "metadata": {},
     "output_type": "execute_result"
    }
   ],
   "source": [
    "spotify_df"
   ]
  },
  {
   "cell_type": "code",
   "execution_count": 41,
   "id": "55229852-6f35-4078-bc81-f25ad5a6a636",
   "metadata": {},
   "outputs": [
    {
     "data": {
      "text/plain": [
       "Unnamed: 0          0\n",
       "genre               0\n",
       "artist_name         0\n",
       "track_name          0\n",
       "track_id            0\n",
       "popularity          0\n",
       "acousticness        0\n",
       "danceability        0\n",
       "duration_ms         0\n",
       "energy              0\n",
       "instrumentalness    0\n",
       "key                 0\n",
       "liveness            0\n",
       "loudness            0\n",
       "mode                0\n",
       "speechiness         0\n",
       "tempo               0\n",
       "time_signature      0\n",
       "valence             0\n",
       "dtype: int64"
      ]
     },
     "execution_count": 41,
     "metadata": {},
     "output_type": "execute_result"
    }
   ],
   "source": [
    "spotify_df.isnull().sum()"
   ]
  },
  {
   "cell_type": "markdown",
   "id": "58d9f4a5-f9f1-4c1e-b306-ea7235be296b",
   "metadata": {},
   "source": [
    "### לא קיימים ערכים חסרים בדאטה שלנו"
   ]
  },
  {
   "cell_type": "code",
   "execution_count": 53,
   "id": "18728d17-9f88-47f0-8368-54370edfa13c",
   "metadata": {},
   "outputs": [
    {
     "data": {
      "text/plain": [
       "array([[<AxesSubplot:title={'center':'Unnamed: 0'}>,\n",
       "        <AxesSubplot:title={'center':'popularity'}>,\n",
       "        <AxesSubplot:title={'center':'acousticness'}>],\n",
       "       [<AxesSubplot:title={'center':'danceability'}>,\n",
       "        <AxesSubplot:title={'center':'duration_ms'}>,\n",
       "        <AxesSubplot:title={'center':'energy'}>],\n",
       "       [<AxesSubplot:title={'center':'instrumentalness'}>,\n",
       "        <AxesSubplot:title={'center':'liveness'}>,\n",
       "        <AxesSubplot:title={'center':'loudness'}>],\n",
       "       [<AxesSubplot:title={'center':'speechiness'}>,\n",
       "        <AxesSubplot:title={'center':'tempo'}>,\n",
       "        <AxesSubplot:title={'center':'valence'}>]], dtype=object)"
      ]
     },
     "execution_count": 53,
     "metadata": {},
     "output_type": "execute_result"
    },
    {
     "data": {
      "image/png": "[encoded data removed]",
      "text/plain": [
       "<Figure size 432x288 with 12 Axes>"
      ]
     },
     "metadata": {
      "needs_background": "light"
     },
     "output_type": "display_data"
    }
   ],
   "source": [
    "spotify_df.hist(bins=100)"
   ]
  },
  {
   "cell_type": "code",
   "execution_count": 62,
   "id": "0223abd1-ab64-4afe-a747-a4c645f8fb45",
   "metadata": {},
   "outputs": [
    {
     "name": "stdout",
     "output_type": "stream",
     "text": [
      "100\n"
     ]
    }
   ],
   "source": [
    "print(spotify_df.popularity.max())"
   ]
  },
  {
   "cell_type": "code",
   "execution_count": 78,
   "id": "b7e5e212-d7a6-4da9-a0dc-c661bea975d6",
   "metadata": {},
   "outputs": [
    {
     "data": {
      "text/plain": [
       "array([[<AxesSubplot:title={'center':'Unnamed: 0'}>,\n",
       "        <AxesSubplot:title={'center':'popularity'}>,\n",
       "        <AxesSubplot:title={'center':'acousticness'}>],\n",
       "       [<AxesSubplot:title={'center':'danceability'}>,\n",
       "        <AxesSubplot:title={'center':'duration_ms'}>,\n",
       "        <AxesSubplot:title={'center':'energy'}>],\n",
       "       [<AxesSubplot:title={'center':'instrumentalness'}>,\n",
       "        <AxesSubplot:title={'center':'liveness'}>,\n",
       "        <AxesSubplot:title={'center':'loudness'}>],\n",
       "       [<AxesSubplot:title={'center':'speechiness'}>,\n",
       "        <AxesSubplot:title={'center':'tempo'}>,\n",
       "        <AxesSubplot:title={'center':'valence'}>]], dtype=object)"
      ]
     },
     "execution_count": 78,
     "metadata": {},
     "output_type": "execute_result"
    },
    {
     "data": {
      "image/png": "[encoded data removed]",
      "text/plain": [
       "<Figure size 432x288 with 12 Axes>"
      ]
     },
     "metadata": {
      "needs_background": "light"
     },
     "output_type": "display_data"
    }
   ],
   "source": [
    "popular_above_80 = spotify_df[spotify_df.popularity > 80]\n",
    "not_popular = spotify_df[(spotify_df.popularity < 80) & (spotify_df.popularity > 20)]\n",
    "popular_above_80.hist(bins=10)"
   ]
  },
  {
   "cell_type": "markdown",
   "id": "785343b0-2cc4-4d06-8647-b0c116c7441d",
   "metadata": {},
   "source": [
    "### נמיין את הנתונים לשתי סוגים מוצלח/לא מוצלח\n",
    "##### מוצלח - פופלריות מעל 80\n",
    "##### לא מוצלח - פופלריות בין 20 ל-80 \n",
    "שירים שהפופלריות שלהם מתחת ל20 לא בהכרח מושפעים ממרכיבי השיר אלה מגורמים אחרים ( חוסר חשיפה ) לכן בהשוואה נרצה להשוות בין שירים שקיבלו חשיפה ולא הצליחו לשירים שקיבלו חשיפה והצליחו "
   ]
  },
  {
   "cell_type": "code",
   "execution_count": null,
   "id": "901a9f0e-d43d-4629-8d76-aa2fa5ce886c",
   "metadata": {},
   "outputs": [],
   "source": []
  },
  {
   "cell_type": "code",
   "execution_count": 79,
   "id": "59b80b18-1e90-4616-9e3a-90144f60e1fc",
   "metadata": {},
   "outputs": [
    {
     "data": {
      "text/plain": [
       "array([[<AxesSubplot:title={'center':'Unnamed: 0'}>,\n",
       "        <AxesSubplot:title={'center':'popularity'}>,\n",
       "        <AxesSubplot:title={'center':'acousticness'}>],\n",
       "       [<AxesSubplot:title={'center':'danceability'}>,\n",
       "        <AxesSubplot:title={'center':'duration_ms'}>,\n",
       "        <AxesSubplot:title={'center':'energy'}>],\n",
       "       [<AxesSubplot:title={'center':'instrumentalness'}>,\n",
       "        <AxesSubplot:title={'center':'liveness'}>,\n",
       "        <AxesSubplot:title={'center':'loudness'}>],\n",
       "       [<AxesSubplot:title={'center':'speechiness'}>,\n",
       "        <AxesSubplot:title={'center':'tempo'}>,\n",
       "        <AxesSubplot:title={'center':'valence'}>]], dtype=object)"
      ]
     },
     "execution_count": 79,
     "metadata": {},
     "output_type": "execute_result"
    },
    {
     "data": {
      "image/png": "[encoded data removed]",
      "text/plain": [
       "<Figure size 432x288 with 12 Axes>"
      ]
     },
     "metadata": {
      "needs_background": "light"
     },
     "output_type": "display_data"
    }
   ],
   "source": [
    "not_popular.hist(bins=10)"
   ]
  },
  {
   "cell_type": "code",
   "execution_count": null,
   "id": "74c0addf-15b6-4a46-9052-d415efe26e48",
   "metadata": {},
   "outputs": [],
   "source": []
  }
 ],
 "metadata": {
  "kernelspec": {
   "display_name": "Python 3",
   "language": "python",
   "name": "python3"
  },
  "language_info": {
   "codemirror_mode": {
    "name": "ipython",
    "version": 3
   },
   "file_extension": ".py",
   "mimetype": "text/x-python",
   "name": "python",
   "nbconvert_exporter": "python",
   "pygments_lexer": "ipython3",
   "version": "3.8.8"
  }
 },
 "nbformat": 4,
 "nbformat_minor": 5
}
